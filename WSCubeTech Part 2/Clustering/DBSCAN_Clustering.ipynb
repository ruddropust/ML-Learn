{
 "cells": [
  {
   "cell_type": "markdown",
   "metadata": {},
   "source": [
    "# DBSCAN Clustering\n",
    "\n",
    "`It mainly deal with non-linear dataset`"
   ]
  },
  {
   "cell_type": "markdown",
   "metadata": {},
   "source": [
    "``It's also use for outlier``"
   ]
  },
  {
   "cell_type": "markdown",
   "metadata": {},
   "source": [
    "DBSCAN is a density-based clustering algorithm that groups data points that are closely packed together and marks outliers as noise based on their density in the feature space.\n",
    "- **Arbitrary-Shaped Clusters:** Clusters can take any shape, not just circular or convex.\n",
    "- **Noise and Outliers:** It effectively identifies and handles noise points without assigning them to any cluster."
   ]
  },
  {
   "cell_type": "markdown",
   "metadata": {},
   "source": [
    "![DBSCAN](https://media.geeksforgeeks.org/wp-content/uploads/20250129131304142658/Databases.webp)"
   ]
  }
 ],
 "metadata": {
  "language_info": {
   "name": "python"
  }
 },
 "nbformat": 4,
 "nbformat_minor": 2
}
