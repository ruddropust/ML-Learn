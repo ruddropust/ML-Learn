{
 "cells": [
  {
   "cell_type": "markdown",
   "metadata": {},
   "source": [
    "A decision tree is a flowchart-like structure used for decision-making and predictive modeling. It consists of nodes representing decisions, branches representing possible outcomes, and leaf nodes representing final decisions or classifications. Decision trees are commonly used in machine learning for classification and regression tasks.\n",
    "\n",
    "Key components of a decision tree:\n",
    "- **Root Node**: The topmost node representing the entire dataset.\n",
    "- **Decision Nodes**: Nodes where the data is split based on certain criteria.\n",
    "- **Leaf Nodes**: Terminal nodes representing the final outcome or decision.\n",
    "- **Branches**: Paths connecting nodes, representing the flow from one decision to another.\n",
    "- **Pruning**:Pruning is the process of removing sections of the tree that provide little power in predicting target variables. It helps in reducing the complexity of the model and increases its generalization ability by eliminating overfitting.\n",
    "\n",
    "**Information Gain**: A measure used to determine which feature provides the most information about the target variable. It is calculated as the difference between the entropy of the dataset before and after a split.\n",
    "\n",
    "**Entropy**: A measure of the randomness or impurity in the dataset. It quantifies the uncertainty involved in predicting the class of a given dataset. The formula for entropy is:\n",
    "\n",
    "$$\n",
    "\\text{Entropy}(S) = - \\sum_{i=1}^{c} p_i \\log_2(p_i)\n",
    "$$\n",
    "\n",
    "where $p_i$ is the probability of class $i$ in dataset $S$.\n",
    "\n",
    "**Gini Index**: A measure of impurity in the dataset. It quantifies the probability of a randomly chosen element being incorrectly classified. The formula for the Gini Index is:\n",
    "\n",
    "$$\n",
    "\\text{Gini}(S) = 1 - \\sum_{i=1}^{c} p_i^2\n",
    "$$\n",
    "\n",
    "where $p_i$ is the probability of class $i$ in dataset $S$.\n",
    "\n",
    "\n",
    "<br><br>\n",
    "Advantages:\n",
    "- Easy to understand and interpret.\n",
    "- Can handle both numerical and categorical data.\n",
    "- Requires little data preprocessing.\n",
    "\n",
    "Disadvantages:\n",
    "- Prone to overfitting.\n",
    "- Can be unstable with small variations in data.\n",
    "- May create biased trees if some classes dominate."
   ]
  },
  {
   "cell_type": "markdown",
   "metadata": {},
   "source": [
    "![Image](https://github.com/user-attachments/assets/b75409b2-5ddd-4060-b9c9-5026cddd6d18)"
   ]
  }
 ],
 "metadata": {
  "kernelspec": {
   "display_name": "base",
   "language": "python",
   "name": "python3"
  },
  "language_info": {
   "name": "python",
   "version": "3.12.7"
  }
 },
 "nbformat": 4,
 "nbformat_minor": 2
}
