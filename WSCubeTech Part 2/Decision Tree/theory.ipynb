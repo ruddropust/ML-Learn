{
 "cells": [
  {
   "cell_type": "markdown",
   "metadata": {},
   "source": [
    "A decision tree is a flowchart-like structure used for decision-making and predictive modeling. It consists of nodes representing decisions, branches representing possible outcomes, and leaf nodes representing final decisions or classifications. Decision trees are commonly used in machine learning for classification and regression tasks.\n",
    "\n",
    "Key components of a decision tree:\n",
    "- **Root Node**: The topmost node representing the entire dataset.\n",
    "- **Decision Nodes**: Nodes where the data is split based on certain criteria.\n",
    "- **Leaf Nodes**: Terminal nodes representing the final outcome or decision.\n",
    "- **Branches**: Paths connecting nodes, representing the flow from one decision to another.\n",
    "- **Pruning**:Pruning is the process of removing sections of the tree that provide little power in predicting target variables. It helps in reducing the complexity of the model and increases its generalization ability by eliminating overfitting.\n",
    "\n",
    "<br><br>\n",
    "Advantages:\n",
    "- Easy to understand and interpret.\n",
    "- Can handle both numerical and categorical data.\n",
    "- Requires little data preprocessing.\n",
    "\n",
    "Disadvantages:\n",
    "- Prone to overfitting.\n",
    "- Can be unstable with small variations in data.\n",
    "- May create biased trees if some classes dominate."
   ]
  },
  {
   "cell_type": "markdown",
   "metadata": {},
   "source": [
    "![Image](https://github.com/user-attachments/assets/b75409b2-5ddd-4060-b9c9-5026cddd6d18)"
   ]
  },
  {
   "cell_type": "code",
   "execution_count": null,
   "metadata": {},
   "outputs": [],
   "source": []
  }
 ],
 "metadata": {
  "kernelspec": {
   "display_name": "base",
   "language": "python",
   "name": "python3"
  },
  "language_info": {
   "name": "python",
   "version": "3.12.7"
  }
 },
 "nbformat": 4,
 "nbformat_minor": 2
}
