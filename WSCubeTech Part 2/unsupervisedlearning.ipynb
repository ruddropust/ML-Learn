{
 "cells": [
  {
   "cell_type": "markdown",
   "metadata": {},
   "source": [
    "![Image](https://github.com/user-attachments/assets/1f18619a-eee3-4b33-a83b-21e3820a54b3)"
   ]
  },
  {
   "cell_type": "markdown",
   "metadata": {},
   "source": [
    "### Types of Unsupervised Machine Learning\n",
    "\n",
    "Unsupervised machine learning algorithms are used to draw inferences from datasets consisting of input data without labeled responses. The main types of unsupervised learning are:\n",
    "\n",
    "1. **Clustering**: \n",
    "Clustering is a technique used to group similar data points together based on their features. It helps in identifying patterns and structures within the data without any prior knowledge of the group labels.\n",
    "    - **K-Means Clustering**\n",
    "    - **Hierarchical Clustering**\n",
    "    - **DBSCAN (Density-Based Spatial Clustering of Applications with Noise)**\n",
    "\n",
    "2. **Association**:This method discovers relationships between variables in a dataset, often used in market basket analysis to identify items frequently bought together, with the Apriori algorithm being a popular choice. \n",
    "\n",
    "    - **Apriori Algorithm**\n",
    "    - **Eclat Algorithm**\n",
    "\n",
    "3. **Dimensionality Reduction**:This approach aims to reduce the number of features in a dataset while still preserving important information, with techniques like Principal Component Analysis (PCA) being widely used. \n",
    "    - **Principal Component Analysis (PCA)**\n",
    "    - **t-Distributed Stochastic Neighbor Embedding (t-SNE)**\n",
    "    - **Singular Value Decomposition (SVD)**\n",
    "\n"
   ]
  },
  {
   "cell_type": "markdown",
   "metadata": {},
   "source": [
    "![Image](https://github.com/user-attachments/assets/6be6c796-ad8e-41bf-ab81-78c7fbf43e8e)"
   ]
  },
  {
   "cell_type": "markdown",
   "metadata": {},
   "source": [
    "### **Anomaly Detection**:\n",
    "    - **Isolation Forest**\n",
    "    - **Local Outlier Factor (LOF)**\n",
    "\n",
    "These techniques are widely used for tasks such as customer segmentation, market basket analysis, and anomaly detection."
   ]
  }
 ],
 "metadata": {
  "kernelspec": {
   "display_name": "base",
   "language": "python",
   "name": "python3"
  },
  "language_info": {
   "codemirror_mode": {
    "name": "ipython",
    "version": 3
   },
   "file_extension": ".py",
   "mimetype": "text/x-python",
   "name": "python",
   "nbconvert_exporter": "python",
   "pygments_lexer": "ipython3",
   "version": "3.12.7"
  }
 },
 "nbformat": 4,
 "nbformat_minor": 2
}
