{
 "cells": [
  {
   "cell_type": "code",
   "execution_count": 159,
   "metadata": {},
   "outputs": [],
   "source": [
    "import pandas as pd"
   ]
  },
  {
   "cell_type": "code",
   "execution_count": 160,
   "metadata": {},
   "outputs": [],
   "source": [
    "dataset = pd.read_csv(r\"C:\\Users\\shark\\Desktop\\ML Learn\\WSCubeTech Part 2\\Dataset\\Placement_cgp.csv\")"
   ]
  },
  {
   "cell_type": "code",
   "execution_count": 161,
   "metadata": {},
   "outputs": [
    {
     "data": {
      "text/html": [
       "<div>\n",
       "<style scoped>\n",
       "    .dataframe tbody tr th:only-of-type {\n",
       "        vertical-align: middle;\n",
       "    }\n",
       "\n",
       "    .dataframe tbody tr th {\n",
       "        vertical-align: top;\n",
       "    }\n",
       "\n",
       "    .dataframe thead th {\n",
       "        text-align: right;\n",
       "    }\n",
       "</style>\n",
       "<table border=\"1\" class=\"dataframe\">\n",
       "  <thead>\n",
       "    <tr style=\"text-align: right;\">\n",
       "      <th></th>\n",
       "      <th>cgpa</th>\n",
       "      <th>package</th>\n",
       "    </tr>\n",
       "  </thead>\n",
       "  <tbody>\n",
       "    <tr>\n",
       "      <th>0</th>\n",
       "      <td>6.89</td>\n",
       "      <td>3.26</td>\n",
       "    </tr>\n",
       "    <tr>\n",
       "      <th>1</th>\n",
       "      <td>5.12</td>\n",
       "      <td>1.98</td>\n",
       "    </tr>\n",
       "    <tr>\n",
       "      <th>2</th>\n",
       "      <td>7.82</td>\n",
       "      <td>3.25</td>\n",
       "    </tr>\n",
       "    <tr>\n",
       "      <th>3</th>\n",
       "      <td>7.42</td>\n",
       "      <td>3.67</td>\n",
       "    </tr>\n",
       "  </tbody>\n",
       "</table>\n",
       "</div>"
      ],
      "text/plain": [
       "   cgpa  package\n",
       "0  6.89     3.26\n",
       "1  5.12     1.98\n",
       "2  7.82     3.25\n",
       "3  7.42     3.67"
      ]
     },
     "execution_count": 161,
     "metadata": {},
     "output_type": "execute_result"
    }
   ],
   "source": [
    "dataset.head(4)"
   ]
  },
  {
   "cell_type": "code",
   "execution_count": 162,
   "metadata": {},
   "outputs": [],
   "source": [
    "x = dataset.iloc[:,:-1]\n",
    "y = dataset[\"package\"]"
   ]
  },
  {
   "cell_type": "code",
   "execution_count": 163,
   "metadata": {},
   "outputs": [],
   "source": [
    "new_data = dataset.head(10)"
   ]
  },
  {
   "cell_type": "code",
   "execution_count": 164,
   "metadata": {},
   "outputs": [],
   "source": [
    "x_new = new_data.iloc[:,:-1]\n",
    "y_new = new_data[\"package\"]"
   ]
  },
  {
   "cell_type": "code",
   "execution_count": 165,
   "metadata": {},
   "outputs": [],
   "source": [
    "from sklearn.model_selection import LeaveOneOut,LeavePOut,KFold,StratifiedKFold"
   ]
  },
  {
   "cell_type": "markdown",
   "metadata": {},
   "source": [
    "### LeaveOneOut"
   ]
  },
  {
   "cell_type": "code",
   "execution_count": 166,
   "metadata": {},
   "outputs": [
    {
     "name": "stdout",
     "output_type": "stream",
     "text": [
      "[1 2 3 4 5 6 7 8 9] [0]\n",
      "[0 2 3 4 5 6 7 8 9] [1]\n",
      "[0 1 3 4 5 6 7 8 9] [2]\n",
      "[0 1 2 4 5 6 7 8 9] [3]\n",
      "[0 1 2 3 5 6 7 8 9] [4]\n",
      "[0 1 2 3 4 6 7 8 9] [5]\n",
      "[0 1 2 3 4 5 7 8 9] [6]\n",
      "[0 1 2 3 4 5 6 8 9] [7]\n",
      "[0 1 2 3 4 5 6 7 9] [8]\n",
      "[0 1 2 3 4 5 6 7 8] [9]\n"
     ]
    }
   ],
   "source": [
    "lo = LeaveOneOut()\n",
    "\n",
    "for train, test in lo.split(x_new,y_new):\n",
    "    print(train,test)"
   ]
  },
  {
   "cell_type": "markdown",
   "metadata": {},
   "source": [
    "### LeavePOut"
   ]
  },
  {
   "cell_type": "code",
   "execution_count": 167,
   "metadata": {},
   "outputs": [
    {
     "name": "stdout",
     "output_type": "stream",
     "text": [
      "[3 4 5 6 7 8 9] [0 1 2]\n",
      "[2 4 5 6 7 8 9] [0 1 3]\n",
      "[2 3 5 6 7 8 9] [0 1 4]\n",
      "[2 3 4 6 7 8 9] [0 1 5]\n",
      "[2 3 4 5 7 8 9] [0 1 6]\n",
      "[2 3 4 5 6 8 9] [0 1 7]\n",
      "[2 3 4 5 6 7 9] [0 1 8]\n",
      "[2 3 4 5 6 7 8] [0 1 9]\n",
      "[1 4 5 6 7 8 9] [0 2 3]\n",
      "[1 3 5 6 7 8 9] [0 2 4]\n",
      "[1 3 4 6 7 8 9] [0 2 5]\n",
      "[1 3 4 5 7 8 9] [0 2 6]\n",
      "[1 3 4 5 6 8 9] [0 2 7]\n",
      "[1 3 4 5 6 7 9] [0 2 8]\n",
      "[1 3 4 5 6 7 8] [0 2 9]\n",
      "[1 2 5 6 7 8 9] [0 3 4]\n",
      "[1 2 4 6 7 8 9] [0 3 5]\n",
      "[1 2 4 5 7 8 9] [0 3 6]\n",
      "[1 2 4 5 6 8 9] [0 3 7]\n",
      "[1 2 4 5 6 7 9] [0 3 8]\n",
      "[1 2 4 5 6 7 8] [0 3 9]\n",
      "[1 2 3 6 7 8 9] [0 4 5]\n",
      "[1 2 3 5 7 8 9] [0 4 6]\n",
      "[1 2 3 5 6 8 9] [0 4 7]\n",
      "[1 2 3 5 6 7 9] [0 4 8]\n",
      "[1 2 3 5 6 7 8] [0 4 9]\n",
      "[1 2 3 4 7 8 9] [0 5 6]\n",
      "[1 2 3 4 6 8 9] [0 5 7]\n",
      "[1 2 3 4 6 7 9] [0 5 8]\n",
      "[1 2 3 4 6 7 8] [0 5 9]\n",
      "[1 2 3 4 5 8 9] [0 6 7]\n",
      "[1 2 3 4 5 7 9] [0 6 8]\n",
      "[1 2 3 4 5 7 8] [0 6 9]\n",
      "[1 2 3 4 5 6 9] [0 7 8]\n",
      "[1 2 3 4 5 6 8] [0 7 9]\n",
      "[1 2 3 4 5 6 7] [0 8 9]\n",
      "[0 4 5 6 7 8 9] [1 2 3]\n",
      "[0 3 5 6 7 8 9] [1 2 4]\n",
      "[0 3 4 6 7 8 9] [1 2 5]\n",
      "[0 3 4 5 7 8 9] [1 2 6]\n",
      "[0 3 4 5 6 8 9] [1 2 7]\n",
      "[0 3 4 5 6 7 9] [1 2 8]\n",
      "[0 3 4 5 6 7 8] [1 2 9]\n",
      "[0 2 5 6 7 8 9] [1 3 4]\n",
      "[0 2 4 6 7 8 9] [1 3 5]\n",
      "[0 2 4 5 7 8 9] [1 3 6]\n",
      "[0 2 4 5 6 8 9] [1 3 7]\n",
      "[0 2 4 5 6 7 9] [1 3 8]\n",
      "[0 2 4 5 6 7 8] [1 3 9]\n",
      "[0 2 3 6 7 8 9] [1 4 5]\n",
      "[0 2 3 5 7 8 9] [1 4 6]\n",
      "[0 2 3 5 6 8 9] [1 4 7]\n",
      "[0 2 3 5 6 7 9] [1 4 8]\n",
      "[0 2 3 5 6 7 8] [1 4 9]\n",
      "[0 2 3 4 7 8 9] [1 5 6]\n",
      "[0 2 3 4 6 8 9] [1 5 7]\n",
      "[0 2 3 4 6 7 9] [1 5 8]\n",
      "[0 2 3 4 6 7 8] [1 5 9]\n",
      "[0 2 3 4 5 8 9] [1 6 7]\n",
      "[0 2 3 4 5 7 9] [1 6 8]\n",
      "[0 2 3 4 5 7 8] [1 6 9]\n",
      "[0 2 3 4 5 6 9] [1 7 8]\n",
      "[0 2 3 4 5 6 8] [1 7 9]\n",
      "[0 2 3 4 5 6 7] [1 8 9]\n",
      "[0 1 5 6 7 8 9] [2 3 4]\n",
      "[0 1 4 6 7 8 9] [2 3 5]\n",
      "[0 1 4 5 7 8 9] [2 3 6]\n",
      "[0 1 4 5 6 8 9] [2 3 7]\n",
      "[0 1 4 5 6 7 9] [2 3 8]\n",
      "[0 1 4 5 6 7 8] [2 3 9]\n",
      "[0 1 3 6 7 8 9] [2 4 5]\n",
      "[0 1 3 5 7 8 9] [2 4 6]\n",
      "[0 1 3 5 6 8 9] [2 4 7]\n",
      "[0 1 3 5 6 7 9] [2 4 8]\n",
      "[0 1 3 5 6 7 8] [2 4 9]\n",
      "[0 1 3 4 7 8 9] [2 5 6]\n",
      "[0 1 3 4 6 8 9] [2 5 7]\n",
      "[0 1 3 4 6 7 9] [2 5 8]\n",
      "[0 1 3 4 6 7 8] [2 5 9]\n",
      "[0 1 3 4 5 8 9] [2 6 7]\n",
      "[0 1 3 4 5 7 9] [2 6 8]\n",
      "[0 1 3 4 5 7 8] [2 6 9]\n",
      "[0 1 3 4 5 6 9] [2 7 8]\n",
      "[0 1 3 4 5 6 8] [2 7 9]\n",
      "[0 1 3 4 5 6 7] [2 8 9]\n",
      "[0 1 2 6 7 8 9] [3 4 5]\n",
      "[0 1 2 5 7 8 9] [3 4 6]\n",
      "[0 1 2 5 6 8 9] [3 4 7]\n",
      "[0 1 2 5 6 7 9] [3 4 8]\n",
      "[0 1 2 5 6 7 8] [3 4 9]\n",
      "[0 1 2 4 7 8 9] [3 5 6]\n",
      "[0 1 2 4 6 8 9] [3 5 7]\n",
      "[0 1 2 4 6 7 9] [3 5 8]\n",
      "[0 1 2 4 6 7 8] [3 5 9]\n",
      "[0 1 2 4 5 8 9] [3 6 7]\n",
      "[0 1 2 4 5 7 9] [3 6 8]\n",
      "[0 1 2 4 5 7 8] [3 6 9]\n",
      "[0 1 2 4 5 6 9] [3 7 8]\n",
      "[0 1 2 4 5 6 8] [3 7 9]\n",
      "[0 1 2 4 5 6 7] [3 8 9]\n",
      "[0 1 2 3 7 8 9] [4 5 6]\n",
      "[0 1 2 3 6 8 9] [4 5 7]\n",
      "[0 1 2 3 6 7 9] [4 5 8]\n",
      "[0 1 2 3 6 7 8] [4 5 9]\n",
      "[0 1 2 3 5 8 9] [4 6 7]\n",
      "[0 1 2 3 5 7 9] [4 6 8]\n",
      "[0 1 2 3 5 7 8] [4 6 9]\n",
      "[0 1 2 3 5 6 9] [4 7 8]\n",
      "[0 1 2 3 5 6 8] [4 7 9]\n",
      "[0 1 2 3 5 6 7] [4 8 9]\n",
      "[0 1 2 3 4 8 9] [5 6 7]\n",
      "[0 1 2 3 4 7 9] [5 6 8]\n",
      "[0 1 2 3 4 7 8] [5 6 9]\n",
      "[0 1 2 3 4 6 9] [5 7 8]\n",
      "[0 1 2 3 4 6 8] [5 7 9]\n",
      "[0 1 2 3 4 6 7] [5 8 9]\n",
      "[0 1 2 3 4 5 9] [6 7 8]\n",
      "[0 1 2 3 4 5 8] [6 7 9]\n",
      "[0 1 2 3 4 5 7] [6 8 9]\n",
      "[0 1 2 3 4 5 6] [7 8 9]\n"
     ]
    }
   ],
   "source": [
    "lp = LeavePOut(p=3)\n",
    "\n",
    "for train, test in lp.split(x_new,y_new):\n",
    "    print(train,test)"
   ]
  },
  {
   "cell_type": "markdown",
   "metadata": {},
   "source": [
    "### K Fold"
   ]
  },
  {
   "cell_type": "code",
   "execution_count": 168,
   "metadata": {},
   "outputs": [
    {
     "name": "stdout",
     "output_type": "stream",
     "text": [
      "[2 3 4 5 6 7 8 9] [0 1]\n",
      "[0 1 4 5 6 7 8 9] [2 3]\n",
      "[0 1 2 3 6 7 8 9] [4 5]\n",
      "[0 1 2 3 4 5 8 9] [6 7]\n",
      "[0 1 2 3 4 5 6 7] [8 9]\n"
     ]
    }
   ],
   "source": [
    "k_fold = KFold(n_splits=5)\n",
    "\n",
    "for train, test in k_fold.split(x_new,y_new):\n",
    "    print(train,test)"
   ]
  },
  {
   "cell_type": "markdown",
   "metadata": {},
   "source": [
    "### StratifiedKFold\n",
    "It's only work for classification dataset"
   ]
  },
  {
   "cell_type": "code",
   "execution_count": 169,
   "metadata": {},
   "outputs": [],
   "source": [
    "#it's only work for classification dataset\n",
    "# sk_fold = StratifiedKFold(n_splits=5)\n",
    "\n",
    "# for train, test in sk_fold.split(x_new,y_new):\n",
    "#     print(train,test)"
   ]
  },
  {
   "cell_type": "code",
   "execution_count": 170,
   "metadata": {},
   "outputs": [],
   "source": [
    "from sklearn.model_selection import cross_val_score\n",
    "from sklearn.linear_model import LinearRegression"
   ]
  },
  {
   "cell_type": "code",
   "execution_count": 171,
   "metadata": {},
   "outputs": [],
   "source": [
    "p = cross_val_score(LinearRegression(),x,y,cv=5)\n",
    "k = cross_val_score(LinearRegression(),x,y,cv=KFold(n_splits=10))\n",
    "pp = cross_val_score(LinearRegression(),x,y,cv=LeavePOut(p=2))"
   ]
  },
  {
   "cell_type": "code",
   "execution_count": 172,
   "metadata": {},
   "outputs": [
    {
     "name": "stdout",
     "output_type": "stream",
     "text": [
      "[0.70887127 0.75398043 0.75683837 0.78086775 0.79051763]\n",
      "[0.60480008 0.65675401 0.67205239 0.69890411 0.73505991 0.74376167\n",
      " 0.80318103 0.82098636 0.82647996 0.83963336]\n",
      "[-1.82288625e+04 -1.54994061e+04 -1.47243469e+04 ...  9.99969903e-01\n",
      "  9.99979086e-01  9.99989797e-01]\n"
     ]
    }
   ],
   "source": [
    "p.sort()\n",
    "k.sort()\n",
    "pp.sort()\n",
    "\n",
    "print(p)\n",
    "print(k)\n",
    "\n",
    "print(pp)"
   ]
  },
  {
   "cell_type": "code",
   "execution_count": 173,
   "metadata": {},
   "outputs": [],
   "source": [
    "# one = cross_val_score(LinearRegression(),x,y,cv=LeaveOneOut())\n",
    "# one.sort()\n",
    "# print(one)"
   ]
  }
 ],
 "metadata": {
  "kernelspec": {
   "display_name": "base",
   "language": "python",
   "name": "python3"
  },
  "language_info": {
   "codemirror_mode": {
    "name": "ipython",
    "version": 3
   },
   "file_extension": ".py",
   "mimetype": "text/x-python",
   "name": "python",
   "nbconvert_exporter": "python",
   "pygments_lexer": "ipython3",
   "version": "3.12.7"
  }
 },
 "nbformat": 4,
 "nbformat_minor": 2
}
