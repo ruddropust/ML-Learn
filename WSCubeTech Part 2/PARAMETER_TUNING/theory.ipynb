{
 "cells": [
  {
   "cell_type": "markdown",
   "metadata": {},
   "source": [
    "## what is model parameter?\n",
    "A model parameter is a configuration variable that is internal to the model and whose value can be estimated from the data. These parameters are typically learned from the training data and are used to make predictions. Examples of model parameters include the weights in a linear regression model or the coefficients in a logistic regression model.\n",
    "\n",
    "The equation of a straight line is given by $y = mx + c$, `where m is the slope and c is the y-intercept called parameter.`\n"
   ]
  },
  {
   "cell_type": "markdown",
   "metadata": {},
   "source": [
    "![Image](https://github.com/user-attachments/assets/0593beb0-f060-4008-95ee-da353a9a9b6d)"
   ]
  },
  {
   "cell_type": "markdown",
   "metadata": {},
   "source": [
    "## what is model hyperparameter?\n",
    "A model hyperparameter is a configuration variable that is external to the model and whose value cannot be estimated from the data. These parameters are set before the learning process begins and are used to control the training process. Examples of model hyperparameters include the learning rate in a neural network, the number of neighbors in a k-nearest neighbors algorithm, and the depth of a decision tree.\n",
    "\n",
    "A hyperparameter is an external configuration for training models, like learning rate in neural networks or tree depth in decision trees.\n",
    "Examples of hyperparameters include:\n",
    "- Learning rate in neural networks\n",
    "- Number of neighbors in k-nearest neighbors algorithm\n",
    "- Depth of a decision tree\n",
    "- Number of clusters in k-means clustering\n",
    "- Regularization parameter in logistic regression"
   ]
  },
  {
   "cell_type": "markdown",
   "metadata": {},
   "source": [
    "![Image](https://github.com/user-attachments/assets/3ef278c2-0aec-452e-ad01-4dace1e92880)"
   ]
  },
  {
   "cell_type": "markdown",
   "metadata": {},
   "source": [
    "\n",
    "## What is Tuning?\n",
    "\n",
    "Tuning refers to the process of optimizing the hyperparameters of a machine learning model to improve its performance. This involves selecting the best set of hyperparameters that result in the highest accuracy or other performance metrics on a validation dataset. Tuning can be done using various techniques such as grid search, random search, or more advanced methods like Bayesian optimization.\n",
    "\n",
    "### Techniques for Hyperparameter Tuning:\n",
    "- **Grid Search**: Exhaustively searches through a specified subset of hyperparameters.\n",
    "- **Random Search**: Randomly samples hyperparameters from a specified distribution.\n",
    "- **Bayesian Optimization**: Uses probabilistic models to find the optimal hyperparameters.\n",
    "\n",
    "The goal of tuning is to find the hyperparameters that yield the best performance for the model on unseen data.\n"
   ]
  }
 ],
 "metadata": {
  "kernelspec": {
   "display_name": "base",
   "language": "python",
   "name": "python3"
  },
  "language_info": {
   "name": "python",
   "version": "3.12.7"
  }
 },
 "nbformat": 4,
 "nbformat_minor": 2
}
