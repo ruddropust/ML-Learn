{
 "cells": [
  {
   "cell_type": "markdown",
   "metadata": {},
   "source": [
    "### Web Scraping\n",
    "\n",
    "Web scraping is the process of extracting data from websites. It involves fetching the content of a web page and parsing it to retrieve specific information. This technique is commonly used for data collection, analysis, and automation tasks.\n",
    "\n",
    "#### Key Components of Web Scraping:\n",
    "1. **HTTP Requests**: Sending requests to a website's server to retrieve HTML content using libraries like `requests` or `urllib`.\n",
    "2. **HTML Parsing**: Extracting specific data from the HTML structure using tools like `BeautifulSoup` or `lxml`.\n",
    "3. **Data Storage**: Saving the extracted data in a structured format such as CSV, JSON, or a database.\n",
    "\n",
    "#### Common Tools and Libraries:\n",
    "- **Python**:\n",
    "    - `BeautifulSoup` (for parsing HTML and XML)\n",
    "    - `Scrapy` (a web scraping framework)\n",
    "    - `Selenium` (for scraping dynamic content)\n",
    "- **JavaScript**:\n",
    "    - `Puppeteer` (for headless browser automation)\n",
    "\n",
    "#### Ethical Considerations:\n",
    "- Always check the website's `robots.txt` file to ensure compliance with its scraping policies.\n",
    "- Avoid overloading servers with excessive requests.\n",
    "- Respect copyright and data privacy laws."
   ]
  },
  {
   "cell_type": "code",
   "execution_count": 1,
   "metadata": {},
   "outputs": [],
   "source": [
    "import pandas as pd\n",
    "import requests\n",
    "import json\n",
    "from bs4 import BeautifulSoup"
   ]
  },
  {
   "cell_type": "code",
   "execution_count": 7,
   "metadata": {},
   "outputs": [
    {
     "name": "stdout",
     "output_type": "stream",
     "text": [
      "Request failed: ('Connection aborted.', ConnectionResetError(10054, 'An existing connection was forcibly closed by the remote host', None, 10054, None))\n"
     ]
    }
   ],
   "source": [
    "import requests\n",
    "\n",
    "headers = {\n",
    "    'User-Agent': 'Mozilla/5.0 (Windows NT 6.3; Win64; x64) AppleWebKit/537.36 (KHTML, like Gecko) Chrome/80.0.3987.162 Safari/537.36'\n",
    "}\n",
    "\n",
    "url = 'https://www.ambitionbox.com/list-of-companies?page=1'\n",
    "\n",
    "try:\n",
    "    response = requests.get(url, headers=headers, timeout=1000)\n",
    "    print(response.text)\n",
    "except requests.exceptions.ReadTimeout:\n",
    "    print(\"Read timed out. Try increasing timeout or checking your connection.\")\n",
    "except requests.exceptions.RequestException as e:\n",
    "    print(\"Request failed:\", e)\n"
   ]
  }
 ],
 "metadata": {
  "kernelspec": {
   "display_name": "base",
   "language": "python",
   "name": "python3"
  },
  "language_info": {
   "codemirror_mode": {
    "name": "ipython",
    "version": 3
   },
   "file_extension": ".py",
   "mimetype": "text/x-python",
   "name": "python",
   "nbconvert_exporter": "python",
   "pygments_lexer": "ipython3",
   "version": "3.12.3"
  }
 },
 "nbformat": 4,
 "nbformat_minor": 2
}
