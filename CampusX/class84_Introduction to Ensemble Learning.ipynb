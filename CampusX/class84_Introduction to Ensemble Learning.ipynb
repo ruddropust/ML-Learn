{
 "cells": [
  {
   "cell_type": "markdown",
   "metadata": {},
   "source": [
    "## Ensemble Learning\n",
    "\n",
    "Ensemble Learning is a machine learning technique where multiple models, often referred to as \"weak learners\" or \"base models,\" are trained and combined to solve a particular problem. The goal of ensemble learning is to improve the overall performance, accuracy, and robustness of the model by leveraging the strengths of individual models while mitigating their weaknesses.\n",
    "\n",
    "#### Types of Ensemble Learning Methods:\n",
    "1. **Bagging (Bootstrap Aggregating):**\n",
    "    - Trains multiple models independently on different subsets of the data (created using bootstrapping).\n",
    "    - Combines predictions by averaging (for regression) or majority voting (for classification).\n",
    "    - Example: Random Forest.\n",
    "\n",
    "2. **Boosting:**\n",
    "    - Trains models sequentially, where each model focuses on correcting the errors of the previous one.\n",
    "    - Combines predictions by weighted voting or summation.\n",
    "    - Example: AdaBoost, Gradient Boosting, XGBoost.\n",
    "\n",
    "3. **Stacking:**\n",
    "    - Combines predictions from multiple models (base learners) using a meta-model.\n",
    "    - The meta-model learns how to best combine the outputs of the base models.\n",
    "\n",
    "4. **Voting:**\n",
    "    - Combines predictions from multiple models by majority voting (for classification) or averaging (for regression).\n",
    "\n",
    "#### Advantages of Ensemble Learning:\n",
    "- Reduces the risk of overfitting.\n",
    "- Improves prediction accuracy.\n",
    "- Handles complex datasets better than individual models.\n",
    "\n",
    "#### Applications:\n",
    "- Fraud detection.\n",
    "- Image and speech recognition.\n",
    "- Recommendation systems.\n",
    "- Financial forecasting."
   ]
  }
 ],
 "metadata": {
  "kernelspec": {
   "display_name": "base",
   "language": "python",
   "name": "python3"
  },
  "language_info": {
   "name": "python",
   "version": "3.12.3"
  }
 },
 "nbformat": 4,
 "nbformat_minor": 2
}
