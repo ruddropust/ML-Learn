{
 "cells": [
  {
   "cell_type": "markdown",
   "metadata": {},
   "source": [
    "\n",
    " * Cross-validation is a statistical method used to estimate the skill of machine learning models.\n",
    " * It is primarily used in applied machine learning to estimate the skill of a machine learning model on unseen data.\n",
    " * \n",
    " * Types of Cross-Validation:\n",
    " * 1. **K-Fold Cross-Validation**: The dataset is divided into 'k' subsets, and the holdout method is repeated 'k' times. Each time, one of the 'k' subsets is used as the test set, and the other 'k-1' subsets are put together to form a training set.\n",
    " * 2. **Stratified K-Fold Cross-Validation**: Similar to K-Fold but the folds are made by preserving the percentage of samples for each class.\n",
    " * 3. **Leave-One-Out Cross-Validation (LOOCV)**: A single observation from the original sample is used as the validation data, and the remaining observations as the training data.\n",
    " * 4. **Leave-P-Out Cross-Validation**: 'P' observations are used as the validation data, and the remaining observations as the training data.\n"
   ]
  }
 ],
 "metadata": {
  "kernelspec": {
   "display_name": "base",
   "language": "python",
   "name": "python3"
  },
  "language_info": {
   "codemirror_mode": {
    "name": "ipython",
    "version": 3
   },
   "file_extension": ".py",
   "mimetype": "text/x-python",
   "name": "python",
   "nbconvert_exporter": "python",
   "pygments_lexer": "ipython3",
   "version": "3.12.7"
  }
 },
 "nbformat": 4,
 "nbformat_minor": 2
}
