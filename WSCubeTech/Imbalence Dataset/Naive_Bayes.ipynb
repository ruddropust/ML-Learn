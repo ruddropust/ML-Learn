{
 "cells": [
  {
   "cell_type": "markdown",
   "metadata": {},
   "source": [
    "# Probability\n",
    "\n",
    "Probability is a measure of the likelihood that an event will occur. It quantifies the uncertainty associated with the occurrence of events and is expressed as a number between 0 and 1, where 0 indicates impossibility and 1 indicates certainty.\n",
    "\n",
    "## Independent Probability vs Dependent Probability\n",
    "\n",
    "### Independent Probability\n",
    "Independent probability refers to the likelihood of two events occurring where the occurrence of one event does not affect the occurrence of the other. For example, flipping a coin and rolling a die are independent events. The probability of both events happening is the product of their individual probabilities.\n",
    "\n",
    "### Dependent Probability\n",
    "Dependent probability refers to the likelihood of two events occurring where the occurrence of one event affects the occurrence of the other. For example, drawing two cards from a deck without replacement is a dependent event. The probability of the second event depends on the outcome of the first event."
   ]
  },
  {
   "cell_type": "markdown",
   "metadata": {},
   "source": [
    "## Conditional Probability\n",
    "\n",
    "Conditional probability is the probability of an event occurring given that another event has already occurred. It is denoted as \\( P(A|B) \\), which reads as \"the probability of A given B\". The formula for conditional probability is:\n",
    "\n",
    "$$\n",
    "P(A|B) = \\frac{P(A \\cap B)}{P(B)}\n",
    "$$\n",
    "\n",
    "where:\n",
    "- \\( P(A \\cap B) \\) is the probability of both events A and B occurring.\n",
    "- \\( P(B) \\) is the probability of event B occurring.\n",
    "\n",
    "Conditional probability is useful in various fields such as statistics, finance, and machine learning to make informed decisions based on prior knowledge.\n"
   ]
  },
  {
   "cell_type": "markdown",
   "metadata": {},
   "source": [
    "![Image](https://github.com/user-attachments/assets/616e860c-6237-4cb8-bc54-b645e16d930c)"
   ]
  },
  {
   "cell_type": "markdown",
   "metadata": {},
   "source": [
    "![Image](https://github.com/user-attachments/assets/814ebe88-c69c-4649-9569-c2cba7475b33)\n",
    "\n",
    "![Image](https://github.com/user-attachments/assets/b5ca8eee-9fdb-4891-b21e-b2bbf39106eb)\n",
    "\n",
    "![Image](https://github.com/user-attachments/assets/67c5ed79-ba68-4370-a7c1-1bff67886116)"
   ]
  },
  {
   "cell_type": "code",
   "execution_count": 1,
   "metadata": {},
   "outputs": [],
   "source": [
    "import pandas as pd\n",
    "import numpy as np\n",
    "import matplotlib.pyplot as plt\n",
    "import seaborn as sns\n",
    "from mlxtend.plotting import plot_decision_regions"
   ]
  },
  {
   "cell_type": "code",
   "execution_count": 2,
   "metadata": {},
   "outputs": [
    {
     "ename": "NameError",
     "evalue": "name 'placement' is not defined",
     "output_type": "error",
     "traceback": [
      "\u001b[1;31m---------------------------------------------------------------------------\u001b[0m",
      "\u001b[1;31mNameError\u001b[0m                                 Traceback (most recent call last)",
      "Cell \u001b[1;32mIn[2], line 1\u001b[0m\n\u001b[1;32m----> 1\u001b[0m dataset \u001b[38;5;241m=\u001b[39m pd\u001b[38;5;241m.\u001b[39mread_csv(placement\u001b[38;5;241m.\u001b[39mcsv)\n",
      "\u001b[1;31mNameError\u001b[0m: name 'placement' is not defined"
     ]
    }
   ],
   "source": [
    "dataset = pd.read_csv(\"placement.csv\")"
   ]
  }
 ],
 "metadata": {
  "kernelspec": {
   "display_name": "base",
   "language": "python",
   "name": "python3"
  },
  "language_info": {
   "codemirror_mode": {
    "name": "ipython",
    "version": 3
   },
   "file_extension": ".py",
   "mimetype": "text/x-python",
   "name": "python",
   "nbconvert_exporter": "python",
   "pygments_lexer": "ipython3",
   "version": "3.12.7"
  }
 },
 "nbformat": 4,
 "nbformat_minor": 2
}
