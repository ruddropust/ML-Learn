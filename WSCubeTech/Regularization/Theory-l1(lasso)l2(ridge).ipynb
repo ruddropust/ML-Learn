{
 "cells": [
  {
   "cell_type": "markdown",
   "metadata": {},
   "source": [
    "# Regularization in Machine Learning(overfitting reducting technique) \n",
    "\n",
    "Regularization is a technique used in machine learning to prevent overfitting by adding a penalty to the model's complexity. It helps improve the model's generalization to new, unseen data. There are two common types of regularization:\n",
    "</br><br>\n",
    "![Image](https://github.com/user-attachments/assets/52ff9020-e11d-4818-aa6b-38ce9baec72b)<br\n",
    "## L1 Regularization (Lasso)\n",
    "Adds the absolute value of the coefficients as a penalty term to the loss function. This can lead to sparse models where some coefficients are exactly zero, effectively performing feature selection.\n",
    "</br>It's used in linear regression to prevent overfitting by adding a penalty term to the loss function. The penalty term is the sum of the absolute values of the coefficients multiplied by a regularization parameter $$ \\lambda $$\n",
    "\n",
    "$$\n",
    "\\text{Loss function} = \\text{Loss} + \\lambda \\sum_{i} |w_i|\n",
    "$$\n",
    "\n",
    "``It is particularly useful when the data has many irrelevant features, as it can help identify and remove them.Mainly used for feature selection``\n",
    "![Image](https://github.com/user-attachments/assets/4f820992-8439-4981-a5db-6fe2fb97d278)\n",
    "## L2 Regularization (Ridge)\n",
    "Adds the squared value of the coefficients as a penalty term to the loss function. This tends to shrink the coefficients but does not set them to zero, which can be useful when all features are believed to be relevant.\n",
    "\n",
    "$$\n",
    "\\text{Loss function} = \\text{Loss} + \\lambda \\sum_{i} w_i^2\n",
    "$$\n",
    "\n",
    "In these equations, \\( \\lambda \\) is the regularization parameter that controls the strength of the penalty. Higher values of \\( \\lambda \\) increase the regularization effect.\n",
    "<br><br>\n",
    "![Image](https://github.com/user-attachments/assets/0909694a-cf82-4d08-aa1a-3cb85f439f29)\n"
   ]
  }
 ],
 "metadata": {
  "language_info": {
   "name": "python"
  }
 },
 "nbformat": 4,
 "nbformat_minor": 2
}
