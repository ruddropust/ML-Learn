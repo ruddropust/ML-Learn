{
 "cells": [
  {
   "cell_type": "markdown",
   "metadata": {},
   "source": [
    "A confusion matrix is a table used to evaluate the performance of a classification algorithm. It compares the actual target values with those predicted by the model. The matrix has four main components:\n",
    "\n",
    "- **True Positive (TP)**: The number of correct positive predictions.\n",
    "- **True Negative (TN)**: The number of correct negative predictions.\n",
    "- **False Positive (FP)**: The number of incorrect positive predictions (Type I error). actual prediction is negetive, but model predict positive\n",
    "- **False Negative (FN)**: The number of incorrect negative predictions (Type II error). actual prediction is positive, but model predict negetive\n",
    "\n",
    "The confusion matrix helps in understanding the types of errors made by the classifier and is useful for calculating various performance metrics such as accuracy, precision, recall, and F1-score.\n",
    "\n",
    "Example of a confusion matrix:\n",
    "\n",
    "| Actual \\ Predicted | Positive | Negative |\n",
    "|--------------------|----------|----------|\n",
    "| Positive           | TP       | FN       |\n",
    "| Negative           | FP       | TN       |"
   ]
  },
  {
   "cell_type": "markdown",
   "metadata": {},
   "source": [
    "![Image](https://github.com/user-attachments/assets/1bd6ade4-a0b1-40af-9fed-87fe352751b9)"
   ]
  },
  {
   "cell_type": "code",
   "execution_count": 1,
   "metadata": {},
   "outputs": [],
   "source": [
    "import pandas as pd\n",
    "import numpy as np\n",
    "import matplotlib.pyplot as plt\n",
    "import seaborn as sns\n",
    "import os\n",
    "import sklearn.metrics as metrics"
   ]
  },
  {
   "cell_type": "code",
   "execution_count": null,
   "metadata": {},
   "outputs": [],
   "source": []
  }
 ],
 "metadata": {
  "kernelspec": {
   "display_name": "base",
   "language": "python",
   "name": "python3"
  },
  "language_info": {
   "codemirror_mode": {
    "name": "ipython",
    "version": 3
   },
   "file_extension": ".py",
   "mimetype": "text/x-python",
   "name": "python",
   "nbconvert_exporter": "python",
   "pygments_lexer": "ipython3",
   "version": "3.12.7"
  }
 },
 "nbformat": 4,
 "nbformat_minor": 2
}
