{
 "cells": [
  {
   "cell_type": "markdown",
   "metadata": {},
   "source": [
    "### Feature Selection\n",
    "\n",
    "Feature selection is the process of selecting a subset of relevant features (variables, predictors) for use in model construction. It helps in:\n",
    "\n",
    "- **Improving model performance**: By removing irrelevant or redundant features, the model can perform better.\n",
    "- **Reducing overfitting**: Fewer features can lead to a simpler model that generalizes better.\n",
    "- **Enhancing interpretability**: A model with fewer features is easier to understand and interpret.\n",
    "- **Reducing training time**: With fewer features, the model can be trained faster.\n",
    "\n",
    "There are several methods for feature selection, including:\n",
    "\n",
    "- **Filter methods**: Use statistical techniques to evaluate the relevance of each feature.\n",
    "- **Wrapper methods**: Use a predictive model to evaluate the combination of features.\n",
    "- **Embedded methods**: Perform feature selection during the model training process."
   ]
  },
  {
   "cell_type": "markdown",
   "metadata": {},
   "source": [
    "## What is Feature Selection?\n",
    "A feature is an attribute that has an impact on a problem or is useful for the problem, and `choosing the important features for the model` is known as feature selection. Each machine learning process depends on feature engineering, which mainly contains two processes; which are `Feature Selection` and `Feature Extraction`."
   ]
  },
  {
   "cell_type": "markdown",
   "metadata": {},
   "source": [
    "## Need for Feature Selection\n",
    "- It helps in avoiding the curse of dimensionality.\n",
    "- It helps in the simplification of the model so that it \n",
    "- can be easily interpreted by the researchers.\n",
    "- It reduces the training time.\n",
    "- It reduces overfitting hence enhance the generalization."
   ]
  },
  {
   "cell_type": "markdown",
   "metadata": {},
   "source": [
    "![Image](https://cdn.sanity.io/images/oaglaatp/production/53ceab64089a2dd8a723b56d8420a6e464b8567f-2813x2813.png?w=1366&h=1366&auto=format)"
   ]
  }
 ],
 "metadata": {
  "kernelspec": {
   "display_name": "base",
   "language": "python",
   "name": "python3"
  },
  "language_info": {
   "name": "python",
   "version": "3.12.7"
  }
 },
 "nbformat": 4,
 "nbformat_minor": 2
}
