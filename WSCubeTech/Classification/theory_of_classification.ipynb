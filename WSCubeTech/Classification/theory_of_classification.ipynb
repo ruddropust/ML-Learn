{
 "cells": [
  {
   "cell_type": "markdown",
   "metadata": {},
   "source": [
    "# Classification"
   ]
  },
  {
   "cell_type": "markdown",
   "metadata": {},
   "source": [
    "Classification algorithms in Machine Learning are used to categorize data into predefined classes or labels. These algorithms learn from a training dataset where the class labels are known and then predict the class labels for new, unseen data. Common classification algorithms include:\n",
    "\n",
    "- **Logistic Regression**: A linear model for binary classification that estimates the probability of a binary outcome.\n",
    "- **Decision Trees**: A tree-like model of decisions that splits data into branches to make predictions.\n",
    "- **Random Forest**: An ensemble method that combines multiple decision trees to improve accuracy and prevent overfitting.\n",
    "- **Support Vector Machines (SVM)**: A model that finds the hyperplane that best separates data into classes.\n",
    "- **K-Nearest Neighbors (KNN)**: A non-parametric method that classifies data based on the closest training examples in the feature space.\n",
    "- **Naive Bayes**: A probabilistic classifier based on Bayes' theorem with strong independence assumptions between features.\n",
    "- **Neural Networks**: Models inspired by the human brain that consist of layers of interconnected nodes (neurons) to capture complex patterns in data.\n",
    "\n",
    "These algorithms are evaluated using metrics such as accuracy, precision, recall, and F1-score to determine their performance."
   ]
  },
  {
   "cell_type": "markdown",
   "metadata": {},
   "source": [
    "![Classification](https://github.com/user-attachments/assets/cde39d2b-0689-42a6-8c0d-6315cbe97ada)"
   ]
  },
  {
   "cell_type": "markdown",
   "metadata": {},
   "source": [
    "![Image](https://github.com/user-attachments/assets/f6f5f457-f55e-48a1-bf66-7c7313eb36fa)"
   ]
  },
  {
   "cell_type": "code",
   "execution_count": 1,
   "metadata": {},
   "outputs": [
    {
     "name": "stdout",
     "output_type": "stream",
     "text": [
      "ÿes\n"
     ]
    }
   ],
   "source": [
    "print(\"ÿes\")"
   ]
  }
 ],
 "metadata": {
  "kernelspec": {
   "display_name": "base",
   "language": "python",
   "name": "python3"
  },
  "language_info": {
   "codemirror_mode": {
    "name": "ipython",
    "version": 3
   },
   "file_extension": ".py",
   "mimetype": "text/x-python",
   "name": "python",
   "nbconvert_exporter": "python",
   "pygments_lexer": "ipython3",
   "version": "3.12.7"
  }
 },
 "nbformat": 4,
 "nbformat_minor": 2
}
