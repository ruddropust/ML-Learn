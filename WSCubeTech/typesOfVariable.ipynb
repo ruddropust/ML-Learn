{
 "cells": [
  {
   "cell_type": "markdown",
   "metadata": {},
   "source": [
    "### Variable Types\n",
    "\n",
    "1. **Numerical**\n",
    "   - **Discreet**: Countable values (e.g., number of students).\n",
    "   - **Continuous**: Measurable values (e.g., height, weight).\n",
    "\n",
    "2. **Categorical**\n",
    "   - **Ordinal**: Ordered categories (e.g., rankings, grades).\n",
    "   - **Nominal**: Unordered categories (e.g., colors, gender).\n",
    "\n",
    "3. **Dates and Times**\n",
    "   - Represent temporal information (e.g., timestamps, durations).\n",
    "\n",
    "4. **Mixed**\n",
    "   - Contain combinations of data types (e.g., a dataset with text, numbers, and dates).\n"
   ]
  }
 ],
 "metadata": {
  "language_info": {
   "name": "python"
  }
 },
 "nbformat": 4,
 "nbformat_minor": 2
}
