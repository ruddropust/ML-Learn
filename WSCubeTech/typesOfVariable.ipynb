{
 "cells": [
  {
   "cell_type": "markdown",
   "metadata": {},
   "source": [
    "*Variable four types<br>\n",
    "    *1. Numerical <br>\n",
    "        i. Discreet.<br>\n",
    "        ii. Continuous.<br>\n",
    "    *2. Categorical<br>\n",
    "        i. Ordinal.<br>\n",
    "        ii. Nominal.<br>\n",
    "    *3. Dates and Times<br>\n",
    "    *4. Mixed<br>"
   ]
  }
 ],
 "metadata": {
  "language_info": {
   "name": "python"
  }
 },
 "nbformat": 4,
 "nbformat_minor": 2
}
