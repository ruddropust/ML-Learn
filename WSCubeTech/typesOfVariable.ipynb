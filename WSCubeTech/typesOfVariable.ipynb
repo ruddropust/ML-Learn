{
 "cells": [
  {
   "cell_type": "markdown",
   "metadata": {},
   "source": [
    "### Variable Types\n",
    "\n",
    "1. **Numerical**\n",
    "   - **Discreet**: Countable values (e.g., number of students). 1 ,2,3,4\n",
    "   - **Continuous**: Measurable values (e.g., height, weight). 65.5, 65.6, 65.7, 100.58\n",
    "\n",
    "2. **Categorical**\n",
    "   - **Ordinal**: Ordered categories,follow orders (e.g., rankings, grades).  A+, A, A-\n",
    "   - **Nominal**: Unordered categories, not interconnected (e.g., colors, gender). Python, Java, C++\n",
    "\n",
    "3. **Dates and Times**\n",
    "   - Represent temporal information, (e.g., timestamps, durations).\n",
    "\n",
    "4. **Mixed**\n",
    "   - Contain combinations of data types(numerical+categorical) (e.g., a dataset with text, numbers, and dates).\n"
   ]
  }
 ],
 "metadata": {
  "language_info": {
   "name": "python"
  }
 },
 "nbformat": 4,
 "nbformat_minor": 2
}
